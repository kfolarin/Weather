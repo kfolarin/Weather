{
 "cells": [
  {
   "cell_type": "markdown",
   "id": "eac7dbd6-be96-4514-a060-c71e9160248b",
   "metadata": {},
   "source": [
    "# Project Portfolio Analysis on Weather Dataset"
   ]
  },
  {
   "cell_type": "markdown",
   "id": "76ee54ba-efe1-4378-907e-0518b1af8960",
   "metadata": {},
   "source": [
    "<img src = 'Weather.jpg' Style = 'width:240px;height:300px'>"
   ]
  },
  {
   "cell_type": "code",
   "execution_count": 1,
   "id": "5c86b4ce-1986-4a0f-a21c-8e77da652460",
   "metadata": {},
   "outputs": [],
   "source": [
    "import pandas as pd\n",
    "import numpy as np\n",
    "import matplotlib.pyplot as plt\n",
    "import seaborn as sns"
   ]
  },
  {
   "cell_type": "markdown",
   "id": "d0ea18a0-0b5e-48e0-83eb-7db1f5ad0eb8",
   "metadata": {},
   "source": [
    "## Loading, performing exploratory data analysis and cleaning the dataset"
   ]
  },
  {
   "cell_type": "code",
   "execution_count": 2,
   "id": "6159a78e-ce60-4317-9f63-5ef0cb6a6c31",
   "metadata": {},
   "outputs": [],
   "source": [
    "df = pd.read_csv('Weather.csv')"
   ]
  },
  {
   "cell_type": "code",
   "execution_count": 3,
   "id": "a49bd121-040b-4159-8586-8b537ccce448",
   "metadata": {},
   "outputs": [
    {
     "data": {
      "text/html": [
       "<div>\n",
       "<style scoped>\n",
       "    .dataframe tbody tr th:only-of-type {\n",
       "        vertical-align: middle;\n",
       "    }\n",
       "\n",
       "    .dataframe tbody tr th {\n",
       "        vertical-align: top;\n",
       "    }\n",
       "\n",
       "    .dataframe thead th {\n",
       "        text-align: right;\n",
       "    }\n",
       "</style>\n",
       "<table border=\"1\" class=\"dataframe\">\n",
       "  <thead>\n",
       "    <tr style=\"text-align: right;\">\n",
       "      <th></th>\n",
       "      <th>Date/Time</th>\n",
       "      <th>Temp_C</th>\n",
       "      <th>Dew Point Temp_C</th>\n",
       "      <th>Rel Hum_%</th>\n",
       "      <th>Wind Speed_km/h</th>\n",
       "      <th>Visibility_km</th>\n",
       "      <th>Press_kPa</th>\n",
       "      <th>Weather</th>\n",
       "    </tr>\n",
       "  </thead>\n",
       "  <tbody>\n",
       "    <tr>\n",
       "      <th>0</th>\n",
       "      <td>1/1/2012 0:00</td>\n",
       "      <td>-1.8</td>\n",
       "      <td>-3.9</td>\n",
       "      <td>86</td>\n",
       "      <td>4</td>\n",
       "      <td>8.0</td>\n",
       "      <td>101.24</td>\n",
       "      <td>Fog</td>\n",
       "    </tr>\n",
       "  </tbody>\n",
       "</table>\n",
       "</div>"
      ],
      "text/plain": [
       "       Date/Time  Temp_C  Dew Point Temp_C  Rel Hum_%  Wind Speed_km/h  \\\n",
       "0  1/1/2012 0:00    -1.8              -3.9         86                4   \n",
       "\n",
       "   Visibility_km  Press_kPa Weather  \n",
       "0            8.0     101.24     Fog  "
      ]
     },
     "execution_count": 3,
     "metadata": {},
     "output_type": "execute_result"
    }
   ],
   "source": [
    "df.head(1)"
   ]
  },
  {
   "cell_type": "code",
   "execution_count": 4,
   "id": "15eb3714-81d0-40f4-937d-6054375192e7",
   "metadata": {},
   "outputs": [
    {
     "data": {
      "text/plain": [
       "(8784, 8)"
      ]
     },
     "execution_count": 4,
     "metadata": {},
     "output_type": "execute_result"
    }
   ],
   "source": [
    "df.shape"
   ]
  },
  {
   "cell_type": "code",
   "execution_count": 5,
   "id": "c06c21da-88e9-444f-9cdd-59400c6d7bf3",
   "metadata": {},
   "outputs": [
    {
     "data": {
      "text/plain": [
       "Index(['Date/Time', 'Temp_C', 'Dew Point Temp_C', 'Rel Hum_%',\n",
       "       'Wind Speed_km/h', 'Visibility_km', 'Press_kPa', 'Weather'],\n",
       "      dtype='object')"
      ]
     },
     "execution_count": 5,
     "metadata": {},
     "output_type": "execute_result"
    }
   ],
   "source": [
    "df.columns"
   ]
  },
  {
   "cell_type": "code",
   "execution_count": 6,
   "id": "528e89d8-b74f-491f-888e-9a81ea85587f",
   "metadata": {},
   "outputs": [
    {
     "name": "stdout",
     "output_type": "stream",
     "text": [
      "<class 'pandas.core.frame.DataFrame'>\n",
      "RangeIndex: 8784 entries, 0 to 8783\n",
      "Data columns (total 8 columns):\n",
      " #   Column            Non-Null Count  Dtype  \n",
      "---  ------            --------------  -----  \n",
      " 0   Date/Time         8784 non-null   object \n",
      " 1   Temp_C            8784 non-null   float64\n",
      " 2   Dew Point Temp_C  8784 non-null   float64\n",
      " 3   Rel Hum_%         8784 non-null   int64  \n",
      " 4   Wind Speed_km/h   8784 non-null   int64  \n",
      " 5   Visibility_km     8784 non-null   float64\n",
      " 6   Press_kPa         8784 non-null   float64\n",
      " 7   Weather           8784 non-null   object \n",
      "dtypes: float64(4), int64(2), object(2)\n",
      "memory usage: 549.1+ KB\n"
     ]
    }
   ],
   "source": [
    "df.info()"
   ]
  },
  {
   "cell_type": "code",
   "execution_count": 7,
   "id": "5a7575ec-e889-4c54-b2f0-aa9d072f7450",
   "metadata": {},
   "outputs": [
    {
     "data": {
      "text/plain": [
       "Date/Time            object\n",
       "Temp_C              float64\n",
       "Dew Point Temp_C    float64\n",
       "Rel Hum_%             int64\n",
       "Wind Speed_km/h       int64\n",
       "Visibility_km       float64\n",
       "Press_kPa           float64\n",
       "Weather              object\n",
       "dtype: object"
      ]
     },
     "execution_count": 7,
     "metadata": {},
     "output_type": "execute_result"
    }
   ],
   "source": [
    "df.dtypes"
   ]
  },
  {
   "cell_type": "code",
   "execution_count": 8,
   "id": "2bbe5744-ff5e-4737-91d7-594cbf462552",
   "metadata": {},
   "outputs": [
    {
     "data": {
      "text/plain": [
       "Date/Time           0\n",
       "Temp_C              0\n",
       "Dew Point Temp_C    0\n",
       "Rel Hum_%           0\n",
       "Wind Speed_km/h     0\n",
       "Visibility_km       0\n",
       "Press_kPa           0\n",
       "Weather             0\n",
       "dtype: int64"
      ]
     },
     "execution_count": 8,
     "metadata": {},
     "output_type": "execute_result"
    }
   ],
   "source": [
    "df.isnull().sum()"
   ]
  },
  {
   "cell_type": "code",
   "execution_count": 9,
   "id": "a51e1b97-69a2-4bd1-bbf8-72c67003abd3",
   "metadata": {},
   "outputs": [
    {
     "data": {
      "text/plain": [
       "0"
      ]
     },
     "execution_count": 9,
     "metadata": {},
     "output_type": "execute_result"
    }
   ],
   "source": [
    "df.duplicated().sum()"
   ]
  },
  {
   "cell_type": "code",
   "execution_count": 10,
   "id": "e0e432ba-f11c-47d6-843c-2d49dd80b6df",
   "metadata": {},
   "outputs": [
    {
     "data": {
      "text/html": [
       "<div>\n",
       "<style scoped>\n",
       "    .dataframe tbody tr th:only-of-type {\n",
       "        vertical-align: middle;\n",
       "    }\n",
       "\n",
       "    .dataframe tbody tr th {\n",
       "        vertical-align: top;\n",
       "    }\n",
       "\n",
       "    .dataframe thead th {\n",
       "        text-align: right;\n",
       "    }\n",
       "</style>\n",
       "<table border=\"1\" class=\"dataframe\">\n",
       "  <thead>\n",
       "    <tr style=\"text-align: right;\">\n",
       "      <th></th>\n",
       "      <th>Temp_C</th>\n",
       "      <th>Dew Point Temp_C</th>\n",
       "      <th>Rel Hum_%</th>\n",
       "      <th>Wind Speed_km/h</th>\n",
       "      <th>Visibility_km</th>\n",
       "      <th>Press_kPa</th>\n",
       "    </tr>\n",
       "  </thead>\n",
       "  <tbody>\n",
       "    <tr>\n",
       "      <th>count</th>\n",
       "      <td>8784.000000</td>\n",
       "      <td>8784.000000</td>\n",
       "      <td>8784.000000</td>\n",
       "      <td>8784.000000</td>\n",
       "      <td>8784.000000</td>\n",
       "      <td>8784.000000</td>\n",
       "    </tr>\n",
       "    <tr>\n",
       "      <th>mean</th>\n",
       "      <td>8.798144</td>\n",
       "      <td>2.555294</td>\n",
       "      <td>67.431694</td>\n",
       "      <td>14.945469</td>\n",
       "      <td>27.664447</td>\n",
       "      <td>101.051623</td>\n",
       "    </tr>\n",
       "    <tr>\n",
       "      <th>std</th>\n",
       "      <td>11.687883</td>\n",
       "      <td>10.883072</td>\n",
       "      <td>16.918881</td>\n",
       "      <td>8.688696</td>\n",
       "      <td>12.622688</td>\n",
       "      <td>0.844005</td>\n",
       "    </tr>\n",
       "    <tr>\n",
       "      <th>min</th>\n",
       "      <td>-23.300000</td>\n",
       "      <td>-28.500000</td>\n",
       "      <td>18.000000</td>\n",
       "      <td>0.000000</td>\n",
       "      <td>0.200000</td>\n",
       "      <td>97.520000</td>\n",
       "    </tr>\n",
       "    <tr>\n",
       "      <th>25%</th>\n",
       "      <td>0.100000</td>\n",
       "      <td>-5.900000</td>\n",
       "      <td>56.000000</td>\n",
       "      <td>9.000000</td>\n",
       "      <td>24.100000</td>\n",
       "      <td>100.560000</td>\n",
       "    </tr>\n",
       "    <tr>\n",
       "      <th>50%</th>\n",
       "      <td>9.300000</td>\n",
       "      <td>3.300000</td>\n",
       "      <td>68.000000</td>\n",
       "      <td>13.000000</td>\n",
       "      <td>25.000000</td>\n",
       "      <td>101.070000</td>\n",
       "    </tr>\n",
       "    <tr>\n",
       "      <th>75%</th>\n",
       "      <td>18.800000</td>\n",
       "      <td>11.800000</td>\n",
       "      <td>81.000000</td>\n",
       "      <td>20.000000</td>\n",
       "      <td>25.000000</td>\n",
       "      <td>101.590000</td>\n",
       "    </tr>\n",
       "    <tr>\n",
       "      <th>max</th>\n",
       "      <td>33.000000</td>\n",
       "      <td>24.400000</td>\n",
       "      <td>100.000000</td>\n",
       "      <td>83.000000</td>\n",
       "      <td>48.300000</td>\n",
       "      <td>103.650000</td>\n",
       "    </tr>\n",
       "  </tbody>\n",
       "</table>\n",
       "</div>"
      ],
      "text/plain": [
       "            Temp_C  Dew Point Temp_C    Rel Hum_%  Wind Speed_km/h  \\\n",
       "count  8784.000000       8784.000000  8784.000000      8784.000000   \n",
       "mean      8.798144          2.555294    67.431694        14.945469   \n",
       "std      11.687883         10.883072    16.918881         8.688696   \n",
       "min     -23.300000        -28.500000    18.000000         0.000000   \n",
       "25%       0.100000         -5.900000    56.000000         9.000000   \n",
       "50%       9.300000          3.300000    68.000000        13.000000   \n",
       "75%      18.800000         11.800000    81.000000        20.000000   \n",
       "max      33.000000         24.400000   100.000000        83.000000   \n",
       "\n",
       "       Visibility_km    Press_kPa  \n",
       "count    8784.000000  8784.000000  \n",
       "mean       27.664447   101.051623  \n",
       "std        12.622688     0.844005  \n",
       "min         0.200000    97.520000  \n",
       "25%        24.100000   100.560000  \n",
       "50%        25.000000   101.070000  \n",
       "75%        25.000000   101.590000  \n",
       "max        48.300000   103.650000  "
      ]
     },
     "execution_count": 10,
     "metadata": {},
     "output_type": "execute_result"
    }
   ],
   "source": [
    "df.describe()"
   ]
  },
  {
   "cell_type": "code",
   "execution_count": 11,
   "id": "b6ede55c-ffb3-4546-8d29-286d37710aae",
   "metadata": {},
   "outputs": [
    {
     "data": {
      "text/html": [
       "<div>\n",
       "<style scoped>\n",
       "    .dataframe tbody tr th:only-of-type {\n",
       "        vertical-align: middle;\n",
       "    }\n",
       "\n",
       "    .dataframe tbody tr th {\n",
       "        vertical-align: top;\n",
       "    }\n",
       "\n",
       "    .dataframe thead th {\n",
       "        text-align: right;\n",
       "    }\n",
       "</style>\n",
       "<table border=\"1\" class=\"dataframe\">\n",
       "  <thead>\n",
       "    <tr style=\"text-align: right;\">\n",
       "      <th></th>\n",
       "      <th>Date/Time</th>\n",
       "      <th>Weather</th>\n",
       "    </tr>\n",
       "  </thead>\n",
       "  <tbody>\n",
       "    <tr>\n",
       "      <th>count</th>\n",
       "      <td>8784</td>\n",
       "      <td>8784</td>\n",
       "    </tr>\n",
       "    <tr>\n",
       "      <th>unique</th>\n",
       "      <td>8784</td>\n",
       "      <td>50</td>\n",
       "    </tr>\n",
       "    <tr>\n",
       "      <th>top</th>\n",
       "      <td>1/1/2012 0:00</td>\n",
       "      <td>Mainly Clear</td>\n",
       "    </tr>\n",
       "    <tr>\n",
       "      <th>freq</th>\n",
       "      <td>1</td>\n",
       "      <td>2106</td>\n",
       "    </tr>\n",
       "  </tbody>\n",
       "</table>\n",
       "</div>"
      ],
      "text/plain": [
       "            Date/Time       Weather\n",
       "count            8784          8784\n",
       "unique           8784            50\n",
       "top     1/1/2012 0:00  Mainly Clear\n",
       "freq                1          2106"
      ]
     },
     "execution_count": 11,
     "metadata": {},
     "output_type": "execute_result"
    }
   ],
   "source": [
    "df.describe(include = 'object')"
   ]
  },
  {
   "cell_type": "code",
   "execution_count": 12,
   "id": "c08bba6a-afcc-46ae-9f13-8064a0d2a954",
   "metadata": {},
   "outputs": [
    {
     "data": {
      "text/plain": [
       "50"
      ]
     },
     "execution_count": 12,
     "metadata": {},
     "output_type": "execute_result"
    }
   ],
   "source": [
    "df['Weather'].nunique()"
   ]
  },
  {
   "cell_type": "code",
   "execution_count": 13,
   "id": "cb5a042f-18c6-4a02-90a8-204627bbccda",
   "metadata": {},
   "outputs": [],
   "source": [
    "df.rename(columns = {'Weather':'Weather Conditions'}, inplace = True)"
   ]
  },
  {
   "cell_type": "code",
   "execution_count": 14,
   "id": "93cd2dd4-1a86-46a5-b3ed-62db0e5857b6",
   "metadata": {},
   "outputs": [
    {
     "data": {
      "text/html": [
       "<div>\n",
       "<style scoped>\n",
       "    .dataframe tbody tr th:only-of-type {\n",
       "        vertical-align: middle;\n",
       "    }\n",
       "\n",
       "    .dataframe tbody tr th {\n",
       "        vertical-align: top;\n",
       "    }\n",
       "\n",
       "    .dataframe thead th {\n",
       "        text-align: right;\n",
       "    }\n",
       "</style>\n",
       "<table border=\"1\" class=\"dataframe\">\n",
       "  <thead>\n",
       "    <tr style=\"text-align: right;\">\n",
       "      <th></th>\n",
       "      <th>Date/Time</th>\n",
       "      <th>Temp_C</th>\n",
       "      <th>Dew Point Temp_C</th>\n",
       "      <th>Rel Hum_%</th>\n",
       "      <th>Wind Speed_km/h</th>\n",
       "      <th>Visibility_km</th>\n",
       "      <th>Press_kPa</th>\n",
       "      <th>Weather Conditions</th>\n",
       "    </tr>\n",
       "  </thead>\n",
       "  <tbody>\n",
       "    <tr>\n",
       "      <th>0</th>\n",
       "      <td>1/1/2012 0:00</td>\n",
       "      <td>-1.8</td>\n",
       "      <td>-3.9</td>\n",
       "      <td>86</td>\n",
       "      <td>4</td>\n",
       "      <td>8.0</td>\n",
       "      <td>101.24</td>\n",
       "      <td>Fog</td>\n",
       "    </tr>\n",
       "  </tbody>\n",
       "</table>\n",
       "</div>"
      ],
      "text/plain": [
       "       Date/Time  Temp_C  Dew Point Temp_C  Rel Hum_%  Wind Speed_km/h  \\\n",
       "0  1/1/2012 0:00    -1.8              -3.9         86                4   \n",
       "\n",
       "   Visibility_km  Press_kPa Weather Conditions  \n",
       "0            8.0     101.24                Fog  "
      ]
     },
     "execution_count": 14,
     "metadata": {},
     "output_type": "execute_result"
    }
   ],
   "source": [
    "df.head(1)"
   ]
  },
  {
   "cell_type": "markdown",
   "id": "5aa5b8f0-2b2d-463e-8b11-cf2782feda03",
   "metadata": {},
   "source": [
    "## Most occuring weather conditions"
   ]
  },
  {
   "cell_type": "code",
   "execution_count": 15,
   "id": "c52f0eae-dc1c-49a4-96b0-4aef2dd18c55",
   "metadata": {},
   "outputs": [
    {
     "data": {
      "text/plain": [
       "Weather Conditions\n",
       "Mainly Clear     2106\n",
       "Mostly Cloudy    2069\n",
       "Cloudy           1728\n",
       "Clear            1326\n",
       "Snow              390\n",
       "Rain              306\n",
       "Rain Showers      188\n",
       "Fog               150\n",
       "Rain,Fog          116\n",
       "Drizzle,Fog        80\n",
       "Name: count, dtype: int64"
      ]
     },
     "execution_count": 15,
     "metadata": {},
     "output_type": "execute_result"
    }
   ],
   "source": [
    "Top_10_Weather_Conditions = df['Weather Conditions'].value_counts()[:10]\n",
    "Top_10_Weather_Conditions"
   ]
  },
  {
   "cell_type": "code",
   "execution_count": 16,
   "id": "e084e5dc-8cde-495f-9409-eeea4e5e1845",
   "metadata": {},
   "outputs": [
    {
     "data": {
      "image/png": "[encoded data removed]",
      "text/plain": [
       "<Figure size 500x300 with 1 Axes>"
      ]
     },
     "metadata": {},
     "output_type": "display_data"
    }
   ],
   "source": [
    "plt.figure(figsize = (5,3))\n",
    "Top_10_Weather_Conditions.plot(kind = 'barh', color = ['g', 'r', 'y', 'blue', 'gold', 'magenta', 'orange'])\n",
    "plt.title('Top 10 Weather Conditions', fontsize = 15, color = 'b')\n",
    "plt.ylabel('No. of Occurence')\n",
    "plt.show()"
   ]
  },
  {
   "cell_type": "markdown",
   "id": "bc9c2df8-9e78-4457-a67a-1b68cae6b0b6",
   "metadata": {},
   "source": [
    "### It could be observed that weather is mainly clear, then followed by it is mainly cloudy and then cloudy."
   ]
  },
  {
   "cell_type": "code",
   "execution_count": 17,
   "id": "e2cfdf11-e652-4187-98ec-6be5b0ffd5bd",
   "metadata": {},
   "outputs": [
    {
     "data": {
      "text/html": [
       "<div>\n",
       "<style scoped>\n",
       "    .dataframe tbody tr th:only-of-type {\n",
       "        vertical-align: middle;\n",
       "    }\n",
       "\n",
       "    .dataframe tbody tr th {\n",
       "        vertical-align: top;\n",
       "    }\n",
       "\n",
       "    .dataframe thead th {\n",
       "        text-align: right;\n",
       "    }\n",
       "</style>\n",
       "<table border=\"1\" class=\"dataframe\">\n",
       "  <thead>\n",
       "    <tr style=\"text-align: right;\">\n",
       "      <th></th>\n",
       "      <th>Date/Time</th>\n",
       "      <th>Temp_C</th>\n",
       "      <th>Dew Point Temp_C</th>\n",
       "      <th>Rel Hum_%</th>\n",
       "      <th>Wind Speed_km/h</th>\n",
       "      <th>Visibility_km</th>\n",
       "      <th>Press_kPa</th>\n",
       "      <th>Weather Conditions</th>\n",
       "    </tr>\n",
       "  </thead>\n",
       "  <tbody>\n",
       "    <tr>\n",
       "      <th>0</th>\n",
       "      <td>1/1/2012 0:00</td>\n",
       "      <td>-1.8</td>\n",
       "      <td>-3.9</td>\n",
       "      <td>86</td>\n",
       "      <td>4</td>\n",
       "      <td>8.0</td>\n",
       "      <td>101.24</td>\n",
       "      <td>Fog</td>\n",
       "    </tr>\n",
       "  </tbody>\n",
       "</table>\n",
       "</div>"
      ],
      "text/plain": [
       "       Date/Time  Temp_C  Dew Point Temp_C  Rel Hum_%  Wind Speed_km/h  \\\n",
       "0  1/1/2012 0:00    -1.8              -3.9         86                4   \n",
       "\n",
       "   Visibility_km  Press_kPa Weather Conditions  \n",
       "0            8.0     101.24                Fog  "
      ]
     },
     "execution_count": 17,
     "metadata": {},
     "output_type": "execute_result"
    }
   ],
   "source": [
    "df.head(1)"
   ]
  },
  {
   "cell_type": "code",
   "execution_count": 18,
   "id": "7ba38b6c-a795-49c3-ae42-4a9498d4a1a4",
   "metadata": {},
   "outputs": [
    {
     "data": {
      "text/html": [
       "<div>\n",
       "<style scoped>\n",
       "    .dataframe tbody tr th:only-of-type {\n",
       "        vertical-align: middle;\n",
       "    }\n",
       "\n",
       "    .dataframe tbody tr th {\n",
       "        vertical-align: top;\n",
       "    }\n",
       "\n",
       "    .dataframe thead th {\n",
       "        text-align: right;\n",
       "    }\n",
       "</style>\n",
       "<table border=\"1\" class=\"dataframe\">\n",
       "  <thead>\n",
       "    <tr style=\"text-align: right;\">\n",
       "      <th></th>\n",
       "      <th></th>\n",
       "      <th></th>\n",
       "      <th></th>\n",
       "      <th></th>\n",
       "      <th></th>\n",
       "      <th></th>\n",
       "      <th></th>\n",
       "      <th>count</th>\n",
       "    </tr>\n",
       "    <tr>\n",
       "      <th>Date/Time</th>\n",
       "      <th>Temp_C</th>\n",
       "      <th>Dew Point Temp_C</th>\n",
       "      <th>Rel Hum_%</th>\n",
       "      <th>Wind Speed_km/h</th>\n",
       "      <th>Visibility_km</th>\n",
       "      <th>Press_kPa</th>\n",
       "      <th>Weather Conditions</th>\n",
       "      <th></th>\n",
       "    </tr>\n",
       "  </thead>\n",
       "  <tbody>\n",
       "    <tr>\n",
       "      <th>1/1/2012 23:00</th>\n",
       "      <th>5.3</th>\n",
       "      <th>2.0</th>\n",
       "      <th>79</th>\n",
       "      <th>30</th>\n",
       "      <th>25.0</th>\n",
       "      <th>99.31</th>\n",
       "      <th>Cloudy</th>\n",
       "      <td>1</td>\n",
       "    </tr>\n",
       "    <tr>\n",
       "      <th>2/26/2012 4:00</th>\n",
       "      <th>-10.8</th>\n",
       "      <th>-15.3</th>\n",
       "      <th>69</th>\n",
       "      <th>30</th>\n",
       "      <th>25.0</th>\n",
       "      <th>101.60</th>\n",
       "      <th>Mostly Cloudy</th>\n",
       "      <td>1</td>\n",
       "    </tr>\n",
       "    <tr>\n",
       "      <th>2/5/2012 23:00</th>\n",
       "      <th>-1.5</th>\n",
       "      <th>-5.7</th>\n",
       "      <th>73</th>\n",
       "      <th>30</th>\n",
       "      <th>25.0</th>\n",
       "      <th>100.93</th>\n",
       "      <th>Cloudy</th>\n",
       "      <td>1</td>\n",
       "    </tr>\n",
       "    <tr>\n",
       "      <th>2/5/2012 22:00</th>\n",
       "      <th>-2.1</th>\n",
       "      <th>-6.7</th>\n",
       "      <th>71</th>\n",
       "      <th>28</th>\n",
       "      <th>25.0</th>\n",
       "      <th>101.06</th>\n",
       "      <th>Cloudy</th>\n",
       "      <td>1</td>\n",
       "    </tr>\n",
       "    <tr>\n",
       "      <th>2/5/2012 21:00</th>\n",
       "      <th>-2.5</th>\n",
       "      <th>-7.7</th>\n",
       "      <th>67</th>\n",
       "      <th>26</th>\n",
       "      <th>25.0</th>\n",
       "      <th>101.18</th>\n",
       "      <th>Cloudy</th>\n",
       "      <td>1</td>\n",
       "    </tr>\n",
       "    <tr>\n",
       "      <th>...</th>\n",
       "      <th>...</th>\n",
       "      <th>...</th>\n",
       "      <th>...</th>\n",
       "      <th>...</th>\n",
       "      <th>...</th>\n",
       "      <th>...</th>\n",
       "      <th>...</th>\n",
       "      <td>...</td>\n",
       "    </tr>\n",
       "    <tr>\n",
       "      <th>10/30/2012 5:00</th>\n",
       "      <th>13.7</th>\n",
       "      <th>10.5</th>\n",
       "      <th>81</th>\n",
       "      <th>37</th>\n",
       "      <th>25.0</th>\n",
       "      <th>99.32</th>\n",
       "      <th>Mainly Clear</th>\n",
       "      <td>1</td>\n",
       "    </tr>\n",
       "    <tr>\n",
       "      <th>10/30/2012 4:00</th>\n",
       "      <th>13.8</th>\n",
       "      <th>10.4</th>\n",
       "      <th>80</th>\n",
       "      <th>35</th>\n",
       "      <th>25.0</th>\n",
       "      <th>99.28</th>\n",
       "      <th>Mostly Cloudy</th>\n",
       "      <td>1</td>\n",
       "    </tr>\n",
       "    <tr>\n",
       "      <th>10/30/2012 3:00</th>\n",
       "      <th>13.9</th>\n",
       "      <th>10.6</th>\n",
       "      <th>80</th>\n",
       "      <th>41</th>\n",
       "      <th>25.0</th>\n",
       "      <th>99.21</th>\n",
       "      <th>Rain Showers</th>\n",
       "      <td>1</td>\n",
       "    </tr>\n",
       "    <tr>\n",
       "      <th>10/30/2012 2:00</th>\n",
       "      <th>14.1</th>\n",
       "      <th>10.3</th>\n",
       "      <th>78</th>\n",
       "      <th>37</th>\n",
       "      <th>25.0</th>\n",
       "      <th>99.31</th>\n",
       "      <th>Mostly Cloudy</th>\n",
       "      <td>1</td>\n",
       "    </tr>\n",
       "    <tr>\n",
       "      <th>9/9/2012 1:00</th>\n",
       "      <th>13.9</th>\n",
       "      <th>9.6</th>\n",
       "      <th>75</th>\n",
       "      <th>28</th>\n",
       "      <th>25.0</th>\n",
       "      <th>100.26</th>\n",
       "      <th>Cloudy</th>\n",
       "      <td>1</td>\n",
       "    </tr>\n",
       "  </tbody>\n",
       "</table>\n",
       "<p>308 rows × 1 columns</p>\n",
       "</div>"
      ],
      "text/plain": [
       "                                                                                                              count\n",
       "Date/Time       Temp_C Dew Point Temp_C Rel Hum_% Wind Speed_km/h Visibility_km Press_kPa Weather Conditions       \n",
       "1/1/2012 23:00   5.3    2.0             79        30              25.0          99.31     Cloudy                  1\n",
       "2/26/2012 4:00  -10.8  -15.3            69        30              25.0          101.60    Mostly Cloudy           1\n",
       "2/5/2012 23:00  -1.5   -5.7             73        30              25.0          100.93    Cloudy                  1\n",
       "2/5/2012 22:00  -2.1   -6.7             71        28              25.0          101.06    Cloudy                  1\n",
       "2/5/2012 21:00  -2.5   -7.7             67        26              25.0          101.18    Cloudy                  1\n",
       "...                                                                                                             ...\n",
       "10/30/2012 5:00  13.7   10.5            81        37              25.0          99.32     Mainly Clear            1\n",
       "10/30/2012 4:00  13.8   10.4            80        35              25.0          99.28     Mostly Cloudy           1\n",
       "10/30/2012 3:00  13.9   10.6            80        41              25.0          99.21     Rain Showers            1\n",
       "10/30/2012 2:00  14.1   10.3            78        37              25.0          99.31     Mostly Cloudy           1\n",
       "9/9/2012 1:00    13.9   9.6             75        28              25.0          100.26    Cloudy                  1\n",
       "\n",
       "[308 rows x 1 columns]"
      ]
     },
     "execution_count": 18,
     "metadata": {},
     "output_type": "execute_result"
    }
   ],
   "source": [
    "Speed_Visibility = pd.DataFrame(df[(df['Wind Speed_km/h'] > 24) & (df['Visibility_km'] == 25)].value_counts())\n",
    "Speed_Visibility"
   ]
  },
  {
   "cell_type": "markdown",
   "id": "27abb8a0-9c24-4170-99a7-ed61568bba52",
   "metadata": {},
   "source": [
    "## Weather Conditions with the lowest temperatures"
   ]
  },
  {
   "cell_type": "code",
   "execution_count": 19,
   "id": "a785abc8-b56e-412d-bca6-687e3bb6ce9b",
   "metadata": {},
   "outputs": [
    {
     "data": {
      "text/plain": [
       "Weather Conditions\n",
       "Freezing Rain,Snow Grains     -5.000000\n",
       "Snow,Fog                      -5.075676\n",
       "Freezing Drizzle,Snow         -5.109091\n",
       "Snow,Blowing Snow             -5.410526\n",
       "Freezing Drizzle,Haze         -5.433333\n",
       "Moderate Snow,Blowing Snow    -5.450000\n",
       "Moderate Snow                 -5.525000\n",
       "Freezing Drizzle              -5.657143\n",
       "Freezing Fog                  -7.575000\n",
       "Snow Showers,Fog             -10.675000\n",
       "Name: Temp_C, dtype: float64"
      ]
     },
     "execution_count": 19,
     "metadata": {},
     "output_type": "execute_result"
    }
   ],
   "source": [
    "Weather_Temp = df.groupby('Weather Conditions')['Temp_C'].mean()\n",
    "Weather_Temp_sort = Weather_Temp.sort_values(ascending = False)\n",
    "Lowest_weather_temp = Weather_Temp_sort.tail(10)\n",
    "Lowest_weather_temp"
   ]
  },
  {
   "cell_type": "code",
   "execution_count": 20,
   "id": "18dd94ba-a92d-4cc6-8b97-6945bd18b099",
   "metadata": {},
   "outputs": [
    {
     "data": {
      "image/png": "[encoded data removed]",
      "text/plain": [
       "<Figure size 700x400 with 1 Axes>"
      ]
     },
     "metadata": {},
     "output_type": "display_data"
    }
   ],
   "source": [
    "plt.figure(figsize = (7,4))\n",
    "Lowest_weather_temp.plot(kind = 'barh', color = ['r', 'green', 'blue', 'pink', 'black', 'yellow', 'orange', 'magenta', 'cyan'])\n",
    "plt.title('Weather Conditions with the lowest temperatures')\n",
    "plt.xlabel('Temperature Measurement')\n",
    "plt.ylabel('Temperature Degrees')\n",
    "plt.show()"
   ]
  },
  {
   "cell_type": "markdown",
   "id": "14f53feb-6c82-4ea1-9461-2ea89ff5b22e",
   "metadata": {},
   "source": [
    "### The coldest weather conditions are 'Freezing Rain and Snow Grains, followed by Fog and then Freezing Drizzle."
   ]
  },
  {
   "cell_type": "markdown",
   "id": "8e7f1bc8-d927-45eb-8119-53e61018811a",
   "metadata": {},
   "source": [
    "## Weather Conditions with the highest temperatures"
   ]
  },
  {
   "cell_type": "code",
   "execution_count": 21,
   "id": "7ab9eaec-6beb-4636-9881-966660020fb5",
   "metadata": {},
   "outputs": [
    {
     "data": {
      "text/plain": [
       "Weather Conditions\n",
       "Mainly Clear                  26449.1\n",
       "Mostly Cloudy                 21878.2\n",
       "Cloudy                        13773.1\n",
       "Clear                          9050.9\n",
       "Rain                           2994.6\n",
       "Rain Showers                   2579.8\n",
       "Rain,Fog                        959.7\n",
       "Fog                             645.5\n",
       "Drizzle,Fog                     645.4\n",
       "Thunderstorms,Rain Showers      320.6\n",
       "Name: Temp_C, dtype: float64"
      ]
     },
     "execution_count": 21,
     "metadata": {},
     "output_type": "execute_result"
    }
   ],
   "source": [
    "High_Temp = df.groupby('Weather Conditions')['Temp_C'].sum()\n",
    "High_Temp = High_Temp.sort_values(ascending = False)[:10]\n",
    "High_Temp"
   ]
  },
  {
   "cell_type": "code",
   "execution_count": 22,
   "id": "d8b80638-19c3-473a-9409-a9f6b9ac3e85",
   "metadata": {},
   "outputs": [
    {
     "data": {
      "image/png": "[encoded data removed]",
      "text/plain": [
       "<Figure size 600x300 with 1 Axes>"
      ]
     },
     "metadata": {},
     "output_type": "display_data"
    }
   ],
   "source": [
    "plt.figure(figsize = (6, 3))\n",
    "High_Temp.plot(kind = 'barh', color = ['g', 'r', 'pink', 'black', 'yellow', 'orange', 'magenta', 'cyan'])\n",
    "plt.title('Weather Conditions VS Temperatures')\n",
    "plt.xlabel('Temperature Measurement')\n",
    "plt.show()"
   ]
  },
  {
   "cell_type": "markdown",
   "id": "0bed6083-9603-4a5b-821b-78137529680b",
   "metadata": {},
   "source": [
    "### The hotest weather conditions occur when the weather is 'Mainly Clear', 'Mostly Cloudy' and 'Cloudy'."
   ]
  },
  {
   "cell_type": "markdown",
   "id": "4c507aca-c19c-4b63-8e2c-8e1636b2465c",
   "metadata": {},
   "source": [
    "## Finding all instances when 'Weather Conditions' is 'Clear' and 'Visibility' > 40"
   ]
  },
  {
   "cell_type": "code",
   "execution_count": 28,
   "id": "be1ca578-0dc7-4dbe-aa0e-5d9b0ae6f3a7",
   "metadata": {},
   "outputs": [
    {
     "data": {
      "text/plain": [
       "array(['Fog', 'Freezing Drizzle,Fog', 'Mostly Cloudy', 'Cloudy', 'Rain',\n",
       "       'Rain Showers', 'Mainly Clear', 'Snow Showers', 'Snow', 'Clear',\n",
       "       'Freezing Rain,Fog', 'Freezing Rain', 'Freezing Drizzle',\n",
       "       'Rain,Snow', 'Moderate Snow', 'Freezing Drizzle,Snow',\n",
       "       'Freezing Rain,Snow Grains', 'Snow,Blowing Snow', 'Freezing Fog',\n",
       "       'Haze', 'Rain,Fog', 'Drizzle,Fog', 'Drizzle',\n",
       "       'Freezing Drizzle,Haze', 'Freezing Rain,Haze', 'Snow,Haze',\n",
       "       'Snow,Fog', 'Snow,Ice Pellets', 'Rain,Haze', 'Thunderstorms,Rain',\n",
       "       'Thunderstorms,Rain Showers', 'Thunderstorms,Heavy Rain Showers',\n",
       "       'Thunderstorms,Rain Showers,Fog', 'Thunderstorms',\n",
       "       'Thunderstorms,Rain,Fog',\n",
       "       'Thunderstorms,Moderate Rain Showers,Fog', 'Rain Showers,Fog',\n",
       "       'Rain Showers,Snow Showers', 'Snow Pellets', 'Rain,Snow,Fog',\n",
       "       'Moderate Rain,Fog', 'Freezing Rain,Ice Pellets,Fog',\n",
       "       'Drizzle,Ice Pellets,Fog', 'Drizzle,Snow', 'Rain,Ice Pellets',\n",
       "       'Drizzle,Snow,Fog', 'Rain,Snow Grains', 'Rain,Snow,Ice Pellets',\n",
       "       'Snow Showers,Fog', 'Moderate Snow,Blowing Snow'], dtype=object)"
      ]
     },
     "execution_count": 28,
     "metadata": {},
     "output_type": "execute_result"
    }
   ],
   "source": [
    "df['Weather Conditions'].unique()"
   ]
  },
  {
   "cell_type": "code",
   "execution_count": 29,
   "id": "44224298-4b67-4523-93f3-c2659806c648",
   "metadata": {},
   "outputs": [
    {
     "data": {
      "text/html": [
       "<div>\n",
       "<style scoped>\n",
       "    .dataframe tbody tr th:only-of-type {\n",
       "        vertical-align: middle;\n",
       "    }\n",
       "\n",
       "    .dataframe tbody tr th {\n",
       "        vertical-align: top;\n",
       "    }\n",
       "\n",
       "    .dataframe thead th {\n",
       "        text-align: right;\n",
       "    }\n",
       "</style>\n",
       "<table border=\"1\" class=\"dataframe\">\n",
       "  <thead>\n",
       "    <tr style=\"text-align: right;\">\n",
       "      <th></th>\n",
       "      <th>Date/Time</th>\n",
       "      <th>Temp_C</th>\n",
       "      <th>Dew Point Temp_C</th>\n",
       "      <th>Rel Hum_%</th>\n",
       "      <th>Wind Speed_km/h</th>\n",
       "      <th>Visibility_km</th>\n",
       "      <th>Press_kPa</th>\n",
       "      <th>Weather Conditions</th>\n",
       "    </tr>\n",
       "  </thead>\n",
       "  <tbody>\n",
       "    <tr>\n",
       "      <th>16</th>\n",
       "      <td>1/1/2012 16:00</td>\n",
       "      <td>2.6</td>\n",
       "      <td>-0.2</td>\n",
       "      <td>82</td>\n",
       "      <td>13</td>\n",
       "      <td>12.9</td>\n",
       "      <td>99.93</td>\n",
       "      <td>Mostly Cloudy</td>\n",
       "    </tr>\n",
       "    <tr>\n",
       "      <th>26</th>\n",
       "      <td>1/2/2012 2:00</td>\n",
       "      <td>3.9</td>\n",
       "      <td>-0.9</td>\n",
       "      <td>71</td>\n",
       "      <td>32</td>\n",
       "      <td>25.0</td>\n",
       "      <td>99.26</td>\n",
       "      <td>Mostly Cloudy</td>\n",
       "    </tr>\n",
       "    <tr>\n",
       "      <th>27</th>\n",
       "      <td>1/2/2012 3:00</td>\n",
       "      <td>3.7</td>\n",
       "      <td>-1.5</td>\n",
       "      <td>69</td>\n",
       "      <td>33</td>\n",
       "      <td>25.0</td>\n",
       "      <td>99.30</td>\n",
       "      <td>Mostly Cloudy</td>\n",
       "    </tr>\n",
       "    <tr>\n",
       "      <th>28</th>\n",
       "      <td>1/2/2012 4:00</td>\n",
       "      <td>2.9</td>\n",
       "      <td>-2.3</td>\n",
       "      <td>69</td>\n",
       "      <td>32</td>\n",
       "      <td>25.0</td>\n",
       "      <td>99.26</td>\n",
       "      <td>Mostly Cloudy</td>\n",
       "    </tr>\n",
       "    <tr>\n",
       "      <th>29</th>\n",
       "      <td>1/2/2012 5:00</td>\n",
       "      <td>2.6</td>\n",
       "      <td>-2.3</td>\n",
       "      <td>70</td>\n",
       "      <td>32</td>\n",
       "      <td>25.0</td>\n",
       "      <td>99.21</td>\n",
       "      <td>Mostly Cloudy</td>\n",
       "    </tr>\n",
       "    <tr>\n",
       "      <th>...</th>\n",
       "      <td>...</td>\n",
       "      <td>...</td>\n",
       "      <td>...</td>\n",
       "      <td>...</td>\n",
       "      <td>...</td>\n",
       "      <td>...</td>\n",
       "      <td>...</td>\n",
       "      <td>...</td>\n",
       "    </tr>\n",
       "    <tr>\n",
       "      <th>8748</th>\n",
       "      <td>12/30/2012 12:00</td>\n",
       "      <td>-12.2</td>\n",
       "      <td>-15.7</td>\n",
       "      <td>75</td>\n",
       "      <td>26</td>\n",
       "      <td>48.3</td>\n",
       "      <td>100.91</td>\n",
       "      <td>Mostly Cloudy</td>\n",
       "    </tr>\n",
       "    <tr>\n",
       "      <th>8749</th>\n",
       "      <td>12/30/2012 13:00</td>\n",
       "      <td>-12.4</td>\n",
       "      <td>-16.2</td>\n",
       "      <td>73</td>\n",
       "      <td>37</td>\n",
       "      <td>48.3</td>\n",
       "      <td>100.92</td>\n",
       "      <td>Mostly Cloudy</td>\n",
       "    </tr>\n",
       "    <tr>\n",
       "      <th>8756</th>\n",
       "      <td>12/30/2012 20:00</td>\n",
       "      <td>-13.8</td>\n",
       "      <td>-16.5</td>\n",
       "      <td>80</td>\n",
       "      <td>24</td>\n",
       "      <td>25.0</td>\n",
       "      <td>101.52</td>\n",
       "      <td>Clear</td>\n",
       "    </tr>\n",
       "    <tr>\n",
       "      <th>8759</th>\n",
       "      <td>12/30/2012 23:00</td>\n",
       "      <td>-12.1</td>\n",
       "      <td>-15.1</td>\n",
       "      <td>78</td>\n",
       "      <td>28</td>\n",
       "      <td>25.0</td>\n",
       "      <td>101.52</td>\n",
       "      <td>Mostly Cloudy</td>\n",
       "    </tr>\n",
       "    <tr>\n",
       "      <th>8763</th>\n",
       "      <td>12/31/2012 3:00</td>\n",
       "      <td>-11.8</td>\n",
       "      <td>-14.4</td>\n",
       "      <td>81</td>\n",
       "      <td>6</td>\n",
       "      <td>25.0</td>\n",
       "      <td>101.42</td>\n",
       "      <td>Mostly Cloudy</td>\n",
       "    </tr>\n",
       "  </tbody>\n",
       "</table>\n",
       "<p>3395 rows × 8 columns</p>\n",
       "</div>"
      ],
      "text/plain": [
       "             Date/Time  Temp_C  Dew Point Temp_C  Rel Hum_%  Wind Speed_km/h  \\\n",
       "16      1/1/2012 16:00     2.6              -0.2         82               13   \n",
       "26       1/2/2012 2:00     3.9              -0.9         71               32   \n",
       "27       1/2/2012 3:00     3.7              -1.5         69               33   \n",
       "28       1/2/2012 4:00     2.9              -2.3         69               32   \n",
       "29       1/2/2012 5:00     2.6              -2.3         70               32   \n",
       "...                ...     ...               ...        ...              ...   \n",
       "8748  12/30/2012 12:00   -12.2             -15.7         75               26   \n",
       "8749  12/30/2012 13:00   -12.4             -16.2         73               37   \n",
       "8756  12/30/2012 20:00   -13.8             -16.5         80               24   \n",
       "8759  12/30/2012 23:00   -12.1             -15.1         78               28   \n",
       "8763   12/31/2012 3:00   -11.8             -14.4         81                6   \n",
       "\n",
       "      Visibility_km  Press_kPa Weather Conditions  \n",
       "16             12.9      99.93      Mostly Cloudy  \n",
       "26             25.0      99.26      Mostly Cloudy  \n",
       "27             25.0      99.30      Mostly Cloudy  \n",
       "28             25.0      99.26      Mostly Cloudy  \n",
       "29             25.0      99.21      Mostly Cloudy  \n",
       "...             ...        ...                ...  \n",
       "8748           48.3     100.91      Mostly Cloudy  \n",
       "8749           48.3     100.92      Mostly Cloudy  \n",
       "8756           25.0     101.52              Clear  \n",
       "8759           25.0     101.52      Mostly Cloudy  \n",
       "8763           25.0     101.42      Mostly Cloudy  \n",
       "\n",
       "[3395 rows x 8 columns]"
      ]
     },
     "execution_count": 29,
     "metadata": {},
     "output_type": "execute_result"
    }
   ],
   "source": [
    "df[(df['Weather Conditions'] == 'Clear') | (df['Weather Conditions'] == 'Mostly Cloudy')]"
   ]
  },
  {
   "cell_type": "markdown",
   "id": "433afe87-349f-4df9-818b-9dc359969f9e",
   "metadata": {},
   "source": [
    "### It can be seen that we have 3027 rows of instances when 'Weather Conditions' is 'Clear' and 'Visibility' > 40¶"
   ]
  },
  {
   "cell_type": "markdown",
   "id": "05249e7f-a605-4a32-b6e1-f4b56293c927",
   "metadata": {},
   "source": [
    "## Finding all instances when 'Weather Conditions' is 'Clear' and 'Relative Humidity' > 50 or 'Visibility' > 40"
   ]
  },
  {
   "cell_type": "code",
   "execution_count": 24,
   "id": "9f1a82fd-f1af-4145-b316-72af912daad8",
   "metadata": {},
   "outputs": [
    {
     "data": {
      "text/html": [
       "<div>\n",
       "<style scoped>\n",
       "    .dataframe tbody tr th:only-of-type {\n",
       "        vertical-align: middle;\n",
       "    }\n",
       "\n",
       "    .dataframe tbody tr th {\n",
       "        vertical-align: top;\n",
       "    }\n",
       "\n",
       "    .dataframe thead th {\n",
       "        text-align: right;\n",
       "    }\n",
       "</style>\n",
       "<table border=\"1\" class=\"dataframe\">\n",
       "  <thead>\n",
       "    <tr style=\"text-align: right;\">\n",
       "      <th></th>\n",
       "      <th>Date/Time</th>\n",
       "      <th>Temp_C</th>\n",
       "      <th>Dew Point Temp_C</th>\n",
       "      <th>Rel Hum_%</th>\n",
       "      <th>Wind Speed_km/h</th>\n",
       "      <th>Visibility_km</th>\n",
       "      <th>Press_kPa</th>\n",
       "      <th>Weather Conditions</th>\n",
       "    </tr>\n",
       "  </thead>\n",
       "  <tbody>\n",
       "    <tr>\n",
       "      <th>106</th>\n",
       "      <td>1/5/2012 10:00</td>\n",
       "      <td>-6.0</td>\n",
       "      <td>-10.0</td>\n",
       "      <td>73</td>\n",
       "      <td>17</td>\n",
       "      <td>48.3</td>\n",
       "      <td>100.45</td>\n",
       "      <td>Mainly Clear</td>\n",
       "    </tr>\n",
       "    <tr>\n",
       "      <th>107</th>\n",
       "      <td>1/5/2012 11:00</td>\n",
       "      <td>-5.6</td>\n",
       "      <td>-10.2</td>\n",
       "      <td>70</td>\n",
       "      <td>22</td>\n",
       "      <td>48.3</td>\n",
       "      <td>100.41</td>\n",
       "      <td>Mainly Clear</td>\n",
       "    </tr>\n",
       "    <tr>\n",
       "      <th>108</th>\n",
       "      <td>1/5/2012 12:00</td>\n",
       "      <td>-4.7</td>\n",
       "      <td>-9.6</td>\n",
       "      <td>69</td>\n",
       "      <td>20</td>\n",
       "      <td>48.3</td>\n",
       "      <td>100.38</td>\n",
       "      <td>Mainly Clear</td>\n",
       "    </tr>\n",
       "    <tr>\n",
       "      <th>109</th>\n",
       "      <td>1/5/2012 13:00</td>\n",
       "      <td>-4.4</td>\n",
       "      <td>-9.7</td>\n",
       "      <td>66</td>\n",
       "      <td>26</td>\n",
       "      <td>48.3</td>\n",
       "      <td>100.40</td>\n",
       "      <td>Mainly Clear</td>\n",
       "    </tr>\n",
       "    <tr>\n",
       "      <th>110</th>\n",
       "      <td>1/5/2012 14:00</td>\n",
       "      <td>-5.1</td>\n",
       "      <td>-10.7</td>\n",
       "      <td>65</td>\n",
       "      <td>22</td>\n",
       "      <td>48.3</td>\n",
       "      <td>100.46</td>\n",
       "      <td>Mainly Clear</td>\n",
       "    </tr>\n",
       "    <tr>\n",
       "      <th>...</th>\n",
       "      <td>...</td>\n",
       "      <td>...</td>\n",
       "      <td>...</td>\n",
       "      <td>...</td>\n",
       "      <td>...</td>\n",
       "      <td>...</td>\n",
       "      <td>...</td>\n",
       "      <td>...</td>\n",
       "    </tr>\n",
       "    <tr>\n",
       "      <th>8749</th>\n",
       "      <td>12/30/2012 13:00</td>\n",
       "      <td>-12.4</td>\n",
       "      <td>-16.2</td>\n",
       "      <td>73</td>\n",
       "      <td>37</td>\n",
       "      <td>48.3</td>\n",
       "      <td>100.92</td>\n",
       "      <td>Mostly Cloudy</td>\n",
       "    </tr>\n",
       "    <tr>\n",
       "      <th>8750</th>\n",
       "      <td>12/30/2012 14:00</td>\n",
       "      <td>-11.8</td>\n",
       "      <td>-16.1</td>\n",
       "      <td>70</td>\n",
       "      <td>37</td>\n",
       "      <td>48.3</td>\n",
       "      <td>100.96</td>\n",
       "      <td>Mainly Clear</td>\n",
       "    </tr>\n",
       "    <tr>\n",
       "      <th>8751</th>\n",
       "      <td>12/30/2012 15:00</td>\n",
       "      <td>-11.3</td>\n",
       "      <td>-15.6</td>\n",
       "      <td>70</td>\n",
       "      <td>32</td>\n",
       "      <td>48.3</td>\n",
       "      <td>101.05</td>\n",
       "      <td>Mainly Clear</td>\n",
       "    </tr>\n",
       "    <tr>\n",
       "      <th>8752</th>\n",
       "      <td>12/30/2012 16:00</td>\n",
       "      <td>-11.4</td>\n",
       "      <td>-15.5</td>\n",
       "      <td>72</td>\n",
       "      <td>26</td>\n",
       "      <td>48.3</td>\n",
       "      <td>101.15</td>\n",
       "      <td>Mainly Clear</td>\n",
       "    </tr>\n",
       "    <tr>\n",
       "      <th>8756</th>\n",
       "      <td>12/30/2012 20:00</td>\n",
       "      <td>-13.8</td>\n",
       "      <td>-16.5</td>\n",
       "      <td>80</td>\n",
       "      <td>24</td>\n",
       "      <td>25.0</td>\n",
       "      <td>101.52</td>\n",
       "      <td>Clear</td>\n",
       "    </tr>\n",
       "  </tbody>\n",
       "</table>\n",
       "<p>2921 rows × 8 columns</p>\n",
       "</div>"
      ],
      "text/plain": [
       "             Date/Time  Temp_C  Dew Point Temp_C  Rel Hum_%  Wind Speed_km/h  \\\n",
       "106     1/5/2012 10:00    -6.0             -10.0         73               17   \n",
       "107     1/5/2012 11:00    -5.6             -10.2         70               22   \n",
       "108     1/5/2012 12:00    -4.7              -9.6         69               20   \n",
       "109     1/5/2012 13:00    -4.4              -9.7         66               26   \n",
       "110     1/5/2012 14:00    -5.1             -10.7         65               22   \n",
       "...                ...     ...               ...        ...              ...   \n",
       "8749  12/30/2012 13:00   -12.4             -16.2         73               37   \n",
       "8750  12/30/2012 14:00   -11.8             -16.1         70               37   \n",
       "8751  12/30/2012 15:00   -11.3             -15.6         70               32   \n",
       "8752  12/30/2012 16:00   -11.4             -15.5         72               26   \n",
       "8756  12/30/2012 20:00   -13.8             -16.5         80               24   \n",
       "\n",
       "      Visibility_km  Press_kPa Weather Conditions  \n",
       "106            48.3     100.45       Mainly Clear  \n",
       "107            48.3     100.41       Mainly Clear  \n",
       "108            48.3     100.38       Mainly Clear  \n",
       "109            48.3     100.40       Mainly Clear  \n",
       "110            48.3     100.46       Mainly Clear  \n",
       "...             ...        ...                ...  \n",
       "8749           48.3     100.92      Mostly Cloudy  \n",
       "8750           48.3     100.96       Mainly Clear  \n",
       "8751           48.3     101.05       Mainly Clear  \n",
       "8752           48.3     101.15       Mainly Clear  \n",
       "8756           25.0     101.52              Clear  \n",
       "\n",
       "[2921 rows x 8 columns]"
      ]
     },
     "execution_count": 24,
     "metadata": {},
     "output_type": "execute_result"
    }
   ],
   "source": [
    "df[(df['Weather Conditions'] == 'Clear') & (df['Rel Hum_%'] > 50) | (df['Visibility_km'] > 40)]"
   ]
  },
  {
   "cell_type": "markdown",
   "id": "00304f31-f549-4457-aa52-d3fc0e8a54a4",
   "metadata": {},
   "source": [
    "### It can be deduced that we have 2921 rows of instances when 'Weather Conditions' is 'Clear' and 'Relative Humidity' > 50 or 'Visibility' > 40"
   ]
  },
  {
   "cell_type": "markdown",
   "id": "fe346eaa-924f-4fbf-ae5c-d0addf4a8ab0",
   "metadata": {},
   "source": [
    "## Total occurences of 'Fog' in 'Weather Conditions'"
   ]
  },
  {
   "cell_type": "code",
   "execution_count": 25,
   "id": "6a645f73-b2b8-474a-97c4-5861575cdfef",
   "metadata": {},
   "outputs": [
    {
     "data": {
      "text/html": [
       "<div>\n",
       "<style scoped>\n",
       "    .dataframe tbody tr th:only-of-type {\n",
       "        vertical-align: middle;\n",
       "    }\n",
       "\n",
       "    .dataframe tbody tr th {\n",
       "        vertical-align: top;\n",
       "    }\n",
       "\n",
       "    .dataframe thead th {\n",
       "        text-align: right;\n",
       "    }\n",
       "</style>\n",
       "<table border=\"1\" class=\"dataframe\">\n",
       "  <thead>\n",
       "    <tr style=\"text-align: right;\">\n",
       "      <th></th>\n",
       "      <th>Date/Time</th>\n",
       "      <th>Temp_C</th>\n",
       "      <th>Dew Point Temp_C</th>\n",
       "      <th>Rel Hum_%</th>\n",
       "      <th>Wind Speed_km/h</th>\n",
       "      <th>Visibility_km</th>\n",
       "      <th>Press_kPa</th>\n",
       "      <th>Weather Conditions</th>\n",
       "    </tr>\n",
       "  </thead>\n",
       "  <tbody>\n",
       "    <tr>\n",
       "      <th>0</th>\n",
       "      <td>1/1/2012 0:00</td>\n",
       "      <td>-1.8</td>\n",
       "      <td>-3.9</td>\n",
       "      <td>86</td>\n",
       "      <td>4</td>\n",
       "      <td>8.0</td>\n",
       "      <td>101.24</td>\n",
       "      <td>Fog</td>\n",
       "    </tr>\n",
       "    <tr>\n",
       "      <th>1</th>\n",
       "      <td>1/1/2012 1:00</td>\n",
       "      <td>-1.8</td>\n",
       "      <td>-3.7</td>\n",
       "      <td>87</td>\n",
       "      <td>4</td>\n",
       "      <td>8.0</td>\n",
       "      <td>101.24</td>\n",
       "      <td>Fog</td>\n",
       "    </tr>\n",
       "    <tr>\n",
       "      <th>2</th>\n",
       "      <td>1/1/2012 2:00</td>\n",
       "      <td>-1.8</td>\n",
       "      <td>-3.4</td>\n",
       "      <td>89</td>\n",
       "      <td>7</td>\n",
       "      <td>4.0</td>\n",
       "      <td>101.26</td>\n",
       "      <td>Freezing Drizzle,Fog</td>\n",
       "    </tr>\n",
       "    <tr>\n",
       "      <th>3</th>\n",
       "      <td>1/1/2012 3:00</td>\n",
       "      <td>-1.5</td>\n",
       "      <td>-3.2</td>\n",
       "      <td>88</td>\n",
       "      <td>6</td>\n",
       "      <td>4.0</td>\n",
       "      <td>101.27</td>\n",
       "      <td>Freezing Drizzle,Fog</td>\n",
       "    </tr>\n",
       "    <tr>\n",
       "      <th>4</th>\n",
       "      <td>1/1/2012 4:00</td>\n",
       "      <td>-1.5</td>\n",
       "      <td>-3.3</td>\n",
       "      <td>88</td>\n",
       "      <td>7</td>\n",
       "      <td>4.8</td>\n",
       "      <td>101.23</td>\n",
       "      <td>Fog</td>\n",
       "    </tr>\n",
       "    <tr>\n",
       "      <th>...</th>\n",
       "      <td>...</td>\n",
       "      <td>...</td>\n",
       "      <td>...</td>\n",
       "      <td>...</td>\n",
       "      <td>...</td>\n",
       "      <td>...</td>\n",
       "      <td>...</td>\n",
       "      <td>...</td>\n",
       "    </tr>\n",
       "    <tr>\n",
       "      <th>8739</th>\n",
       "      <td>12/30/2012 3:00</td>\n",
       "      <td>-9.1</td>\n",
       "      <td>-10.4</td>\n",
       "      <td>90</td>\n",
       "      <td>11</td>\n",
       "      <td>3.6</td>\n",
       "      <td>100.30</td>\n",
       "      <td>Snow,Fog</td>\n",
       "    </tr>\n",
       "    <tr>\n",
       "      <th>8740</th>\n",
       "      <td>12/30/2012 4:00</td>\n",
       "      <td>-9.3</td>\n",
       "      <td>-10.6</td>\n",
       "      <td>90</td>\n",
       "      <td>13</td>\n",
       "      <td>9.7</td>\n",
       "      <td>100.28</td>\n",
       "      <td>Snow,Fog</td>\n",
       "    </tr>\n",
       "    <tr>\n",
       "      <th>8741</th>\n",
       "      <td>12/30/2012 5:00</td>\n",
       "      <td>-9.1</td>\n",
       "      <td>-10.4</td>\n",
       "      <td>90</td>\n",
       "      <td>11</td>\n",
       "      <td>4.0</td>\n",
       "      <td>100.32</td>\n",
       "      <td>Snow,Fog</td>\n",
       "    </tr>\n",
       "    <tr>\n",
       "      <th>8742</th>\n",
       "      <td>12/30/2012 6:00</td>\n",
       "      <td>-9.3</td>\n",
       "      <td>-10.8</td>\n",
       "      <td>89</td>\n",
       "      <td>17</td>\n",
       "      <td>8.0</td>\n",
       "      <td>100.39</td>\n",
       "      <td>Snow,Fog</td>\n",
       "    </tr>\n",
       "    <tr>\n",
       "      <th>8770</th>\n",
       "      <td>12/31/2012 10:00</td>\n",
       "      <td>-7.4</td>\n",
       "      <td>-8.9</td>\n",
       "      <td>89</td>\n",
       "      <td>4</td>\n",
       "      <td>6.4</td>\n",
       "      <td>101.05</td>\n",
       "      <td>Snow,Fog</td>\n",
       "    </tr>\n",
       "  </tbody>\n",
       "</table>\n",
       "<p>426 rows × 8 columns</p>\n",
       "</div>"
      ],
      "text/plain": [
       "             Date/Time  Temp_C  Dew Point Temp_C  Rel Hum_%  Wind Speed_km/h  \\\n",
       "0        1/1/2012 0:00    -1.8              -3.9         86                4   \n",
       "1        1/1/2012 1:00    -1.8              -3.7         87                4   \n",
       "2        1/1/2012 2:00    -1.8              -3.4         89                7   \n",
       "3        1/1/2012 3:00    -1.5              -3.2         88                6   \n",
       "4        1/1/2012 4:00    -1.5              -3.3         88                7   \n",
       "...                ...     ...               ...        ...              ...   \n",
       "8739   12/30/2012 3:00    -9.1             -10.4         90               11   \n",
       "8740   12/30/2012 4:00    -9.3             -10.6         90               13   \n",
       "8741   12/30/2012 5:00    -9.1             -10.4         90               11   \n",
       "8742   12/30/2012 6:00    -9.3             -10.8         89               17   \n",
       "8770  12/31/2012 10:00    -7.4              -8.9         89                4   \n",
       "\n",
       "      Visibility_km  Press_kPa    Weather Conditions  \n",
       "0               8.0     101.24                   Fog  \n",
       "1               8.0     101.24                   Fog  \n",
       "2               4.0     101.26  Freezing Drizzle,Fog  \n",
       "3               4.0     101.27  Freezing Drizzle,Fog  \n",
       "4               4.8     101.23                   Fog  \n",
       "...             ...        ...                   ...  \n",
       "8739            3.6     100.30              Snow,Fog  \n",
       "8740            9.7     100.28              Snow,Fog  \n",
       "8741            4.0     100.32              Snow,Fog  \n",
       "8742            8.0     100.39              Snow,Fog  \n",
       "8770            6.4     101.05              Snow,Fog  \n",
       "\n",
       "[426 rows x 8 columns]"
      ]
     },
     "execution_count": 25,
     "metadata": {},
     "output_type": "execute_result"
    }
   ],
   "source": [
    "Fog = df[df['Weather Conditions'].str.contains('Fog')]\n",
    "Fog"
   ]
  },
  {
   "cell_type": "markdown",
   "id": "93ee5a7f-a27b-45a1-85e8-355552f1c85a",
   "metadata": {},
   "source": [
    "### Fog occurs 426 times in the dataset"
   ]
  },
  {
   "cell_type": "markdown",
   "id": "8ed07a2f-74e9-4add-9583-f9a8ab070c56",
   "metadata": {},
   "source": [
    "SUMMARY\n",
    "##### It could be observed that weather is mainly clear, then followed by it is mainly cloudy and then cloudy.\n",
    "##### The coldest weather conditions are 'Freezing Rain and Snow Grains, followed by Fog and then Freezing Drizzle.\n",
    "##### The hotest weather conditions occur when the weather is 'Mainly Clear', 'Mostly Cloudy' and 'Cloudy'."
   ]
  },
  {
   "cell_type": "code",
   "execution_count": null,
   "id": "f97c44e7-c062-4bdd-9bce-15e48394dbf9",
   "metadata": {},
   "outputs": [],
   "source": []
  }
 ],
 "metadata": {
  "kernelspec": {
   "display_name": "Python 3 (ipykernel)",
   "language": "python",
   "name": "python3"
  },
  "language_info": {
   "codemirror_mode": {
    "name": "ipython",
    "version": 3
   },
   "file_extension": ".py",
   "mimetype": "text/x-python",
   "name": "python",
   "nbconvert_exporter": "python",
   "pygments_lexer": "ipython3",
   "version": "3.12.0"
  }
 },
 "nbformat": 4,
 "nbformat_minor": 5
}
